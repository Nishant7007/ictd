{
 "cells": [
  {
   "cell_type": "code",
   "execution_count": 4,
   "metadata": {},
   "outputs": [],
   "source": [
    "from liveCommonFilesLoader import *\n",
    "#%matplotlib inline\n",
    "import matplotlib.dates as mdates\n",
    "import os\n",
    "\n",
    "SMALL_SIZE = 8\n",
    "MEDIUM_SIZE = 10\n",
    "BIGGER_SIZE = 20\n",
    "\n",
    "plt.rc('font', size=BIGGER_SIZE)          # controls default text sizes\n",
    "plt.rc('axes', titlesize=BIGGER_SIZE)     # fontsize of the axes title\n",
    "plt.rc('axes', labelsize=BIGGER_SIZE)    # fontsize of the x and y labels\n",
    "plt.rc('xtick', labelsize=BIGGER_SIZE)    # fontsize of the tick labels\n",
    "plt.rc('ytick', labelsize=BIGGER_SIZE)    # fontsize of the tick labels\n",
    "plt.rc('legend', fontsize=BIGGER_SIZE)    # legend fontsize\n",
    "plt.rc('figure', titlesize=BIGGER_SIZE)  # fontsize of the figure title\n",
    "\n"
   ]
  },
  {
   "cell_type": "code",
   "execution_count": 2,
   "metadata": {},
   "outputs": [],
   "source": [
    "def sarimaVssarimaxFullPlot(fileName, commodity, winSize=15):\n",
    "    originalFile = os.path.join(os.path.join(os.path.join(\"../Data/PlottingData\", commodity), 'Original'), fileName)\n",
    "    sarimaFile = os.path.join(os.path.join(os.path.join(\"../Data/PlottingData\", commodity), 'Sarima'), fileName)\n",
    "    sarimaxFile = os.path.join(os.path.join(os.path.join(\"../Data/PlottingData\", commodity), 'Sarimax'), fileName)\n",
    "       \n",
    "    originalDf = pd.read_csv(originalFile)\n",
    "    sarimaDf = pd.read_csv(sarimaFile)\n",
    "    sarimaxDf = pd.read_csv(sarimaxFile)\n",
    "    \n",
    "    date = min(originalDf['DATE'].max(), sarimaDf['DATE'].max(), sarimaxDf['DATE'].max())\n",
    "  \n",
    "    originalDf = originalDf[originalDf['DATE']<=date]\n",
    "    sarimaDf = sarimaDf[sarimaDf['DATE']<=date]\n",
    "    sarimaxDf = sarimaxDf[sarimaxDf['DATE']<=date]\n",
    "    \n",
    "    \n",
    "    originalDf['DATE'] = pd.to_datetime(originalDf['DATE'])\n",
    "    sarimaDf['DATE'] = pd.to_datetime(sarimaDf['DATE'])\n",
    "    sarimaxDf['DATE'] = pd.to_datetime(sarimaxDf['DATE'])\n",
    "    \n",
    "    originalDf.set_index('DATE', drop=True, inplace=True)\n",
    "    sarimaDf.set_index('DATE', drop=True, inplace=True)\n",
    "    sarimaxDf.set_index('DATE', drop=True, inplace=True)\n",
    "    \n",
    "    plt.plot(originalDf.rolling(winSize).mean())\n",
    "    plt.plot(sarimaDf.rolling(winSize).mean())\n",
    "    plt.plot(sarimaxDf.rolling(winSize).mean())\n",
    "    plt.show()"
   ]
  },
  {
   "cell_type": "code",
   "execution_count": 3,
   "metadata": {},
   "outputs": [],
   "source": [
    "def sarimaVssarimaxCurrentYearPlot(fileName, commodity, winSize=15):\n",
    "    originalFile = os.path.join(os.path.join(os.path.join(\"../Data/PlottingData\", commodity), 'Original'), fileName)\n",
    "    sarimaFile = os.path.join(os.path.join(os.path.join(\"../Data/PlottingData\", commodity), 'Sarima'), fileName)\n",
    "    sarimaxFile = os.path.join(os.path.join(os.path.join(\"../Data/PlottingData\", commodity), 'Sarimax'), fileName)\n",
    "       \n",
    "    originalDf = pd.read_csv(originalFile)\n",
    "    sarimaDf = pd.read_csv(sarimaFile)\n",
    "    sarimaxDf = pd.read_csv(sarimaxFile)\n",
    "    \n",
    "    date = min(originalDf['DATE'].max(), sarimaDf['DATE'].max(), sarimaxDf['DATE'].max())\n",
    "   \n",
    "    startdate = date[:4] + '-01' +'-01'\n",
    "  \n",
    "    originalDf = originalDf[(originalDf['DATE']<=date) & (originalDf['DATE']>=startdate)]\n",
    "    sarimaDf = sarimaDf[(sarimaDf['DATE']<=date) & (sarimaDf['DATE']>=startdate)]\n",
    "    sarimaxDf = sarimaxDf[(sarimaxDf['DATE']<=date) & (sarimaxDf['DATE']>=startdate)]\n",
    "    \n",
    "    \n",
    "    \n",
    "    originalDf['DATE'] = pd.to_datetime(originalDf['DATE'])\n",
    "    sarimaDf['DATE'] = pd.to_datetime(sarimaDf['DATE'])\n",
    "    sarimaxDf['DATE'] = pd.to_datetime(sarimaxDf['DATE'])\n",
    "    \n",
    "    originalDf.set_index('DATE', drop=True, inplace=True)\n",
    "    sarimaDf.set_index('DATE', drop=True, inplace=True)\n",
    "    sarimaxDf.set_index('DATE', drop=True, inplace=True)\n",
    "    \n",
    "    fig = plt.figure()\n",
    "    ax = fig.add_subplot(111)\n",
    "    \n",
    "    plt.plot(originalDf.rolling(winSize).mean(), s=80)\n",
    "    plt.plot(sarimaDf.rolling(winSize).mean(), s=80)\n",
    "    plt.plot(sarimaxDf.rolling(winSize).mean(), s=80)\n",
    "    ax.xaxis.set_major_formatter(mdates.DateFormatter('%b-%y'))\n",
    "    plt.legend(['Original','Sarima', 'Sarimax'])\n",
    "    \n",
    "    ax.set_xlabel('Date')\n",
    "    plt.xticks(rotation=45)\n",
    "    #ax.set_xticklabels(originalDf.index,rotation=45)\n",
    "    if(originalDf.columns[0]=='PRICE'):\n",
    "        ax.set_ylabel('Price(in per Quintal)')\n",
    "    else:\n",
    "        ax.set_ylabel('Arrival amountin Quintals')\n",
    "    \n",
    "    plt.show()"
   ]
  },
  {
   "cell_type": "code",
   "execution_count": 4,
   "metadata": {},
   "outputs": [],
   "source": [
    "fileName = 'MAHARASHTRA_MUMBAI_Price.csv'\n",
    "commodity = 'SUGAR'"
   ]
  },
  {
   "cell_type": "code",
   "execution_count": 5,
   "metadata": {},
   "outputs": [
    {
     "ename": "AttributeError",
     "evalue": "'Line2D' object has no property 's'",
     "output_type": "error",
     "traceback": [
      "\u001b[0;31m---------------------------------------------------------------------------\u001b[0m",
      "\u001b[0;31mAttributeError\u001b[0m                            Traceback (most recent call last)",
      "\u001b[0;32m<ipython-input-5-a7d2490e9049>\u001b[0m in \u001b[0;36m<module>\u001b[0;34m\u001b[0m\n\u001b[0;32m----> 1\u001b[0;31m \u001b[0msarimaVssarimaxCurrentYearPlot\u001b[0m\u001b[0;34m(\u001b[0m\u001b[0mfileName\u001b[0m\u001b[0;34m,\u001b[0m \u001b[0mcommodity\u001b[0m\u001b[0;34m)\u001b[0m\u001b[0;34m\u001b[0m\u001b[0;34m\u001b[0m\u001b[0m\n\u001b[0m",
      "\u001b[0;32m<ipython-input-3-e03d5fdb8852>\u001b[0m in \u001b[0;36msarimaVssarimaxCurrentYearPlot\u001b[0;34m(fileName, commodity, winSize)\u001b[0m\n\u001b[1;32m     29\u001b[0m     \u001b[0max\u001b[0m \u001b[0;34m=\u001b[0m \u001b[0mfig\u001b[0m\u001b[0;34m.\u001b[0m\u001b[0madd_subplot\u001b[0m\u001b[0;34m(\u001b[0m\u001b[0;36m111\u001b[0m\u001b[0;34m)\u001b[0m\u001b[0;34m\u001b[0m\u001b[0;34m\u001b[0m\u001b[0m\n\u001b[1;32m     30\u001b[0m \u001b[0;34m\u001b[0m\u001b[0m\n\u001b[0;32m---> 31\u001b[0;31m     \u001b[0mplt\u001b[0m\u001b[0;34m.\u001b[0m\u001b[0mplot\u001b[0m\u001b[0;34m(\u001b[0m\u001b[0moriginalDf\u001b[0m\u001b[0;34m.\u001b[0m\u001b[0mrolling\u001b[0m\u001b[0;34m(\u001b[0m\u001b[0mwinSize\u001b[0m\u001b[0;34m)\u001b[0m\u001b[0;34m.\u001b[0m\u001b[0mmean\u001b[0m\u001b[0;34m(\u001b[0m\u001b[0;34m)\u001b[0m\u001b[0;34m,\u001b[0m \u001b[0ms\u001b[0m\u001b[0;34m=\u001b[0m\u001b[0;36m80\u001b[0m\u001b[0;34m)\u001b[0m\u001b[0;34m\u001b[0m\u001b[0;34m\u001b[0m\u001b[0m\n\u001b[0m\u001b[1;32m     32\u001b[0m     \u001b[0mplt\u001b[0m\u001b[0;34m.\u001b[0m\u001b[0mplot\u001b[0m\u001b[0;34m(\u001b[0m\u001b[0msarimaDf\u001b[0m\u001b[0;34m.\u001b[0m\u001b[0mrolling\u001b[0m\u001b[0;34m(\u001b[0m\u001b[0mwinSize\u001b[0m\u001b[0;34m)\u001b[0m\u001b[0;34m.\u001b[0m\u001b[0mmean\u001b[0m\u001b[0;34m(\u001b[0m\u001b[0;34m)\u001b[0m\u001b[0;34m,\u001b[0m \u001b[0ms\u001b[0m\u001b[0;34m=\u001b[0m\u001b[0;36m80\u001b[0m\u001b[0;34m)\u001b[0m\u001b[0;34m\u001b[0m\u001b[0;34m\u001b[0m\u001b[0m\n\u001b[1;32m     33\u001b[0m     \u001b[0mplt\u001b[0m\u001b[0;34m.\u001b[0m\u001b[0mplot\u001b[0m\u001b[0;34m(\u001b[0m\u001b[0msarimaxDf\u001b[0m\u001b[0;34m.\u001b[0m\u001b[0mrolling\u001b[0m\u001b[0;34m(\u001b[0m\u001b[0mwinSize\u001b[0m\u001b[0;34m)\u001b[0m\u001b[0;34m.\u001b[0m\u001b[0mmean\u001b[0m\u001b[0;34m(\u001b[0m\u001b[0;34m)\u001b[0m\u001b[0;34m,\u001b[0m \u001b[0ms\u001b[0m\u001b[0;34m=\u001b[0m\u001b[0;36m80\u001b[0m\u001b[0;34m)\u001b[0m\u001b[0;34m\u001b[0m\u001b[0;34m\u001b[0m\u001b[0m\n",
      "\u001b[0;32m~/.local/lib/python3.8/site-packages/matplotlib/pyplot.py\u001b[0m in \u001b[0;36mplot\u001b[0;34m(scalex, scaley, data, *args, **kwargs)\u001b[0m\n\u001b[1;32m   2838\u001b[0m \u001b[0;34m@\u001b[0m\u001b[0m_copy_docstring_and_deprecators\u001b[0m\u001b[0;34m(\u001b[0m\u001b[0mAxes\u001b[0m\u001b[0;34m.\u001b[0m\u001b[0mplot\u001b[0m\u001b[0;34m)\u001b[0m\u001b[0;34m\u001b[0m\u001b[0;34m\u001b[0m\u001b[0m\n\u001b[1;32m   2839\u001b[0m \u001b[0;32mdef\u001b[0m \u001b[0mplot\u001b[0m\u001b[0;34m(\u001b[0m\u001b[0;34m*\u001b[0m\u001b[0margs\u001b[0m\u001b[0;34m,\u001b[0m \u001b[0mscalex\u001b[0m\u001b[0;34m=\u001b[0m\u001b[0;32mTrue\u001b[0m\u001b[0;34m,\u001b[0m \u001b[0mscaley\u001b[0m\u001b[0;34m=\u001b[0m\u001b[0;32mTrue\u001b[0m\u001b[0;34m,\u001b[0m \u001b[0mdata\u001b[0m\u001b[0;34m=\u001b[0m\u001b[0;32mNone\u001b[0m\u001b[0;34m,\u001b[0m \u001b[0;34m**\u001b[0m\u001b[0mkwargs\u001b[0m\u001b[0;34m)\u001b[0m\u001b[0;34m:\u001b[0m\u001b[0;34m\u001b[0m\u001b[0;34m\u001b[0m\u001b[0m\n\u001b[0;32m-> 2840\u001b[0;31m     return gca().plot(\n\u001b[0m\u001b[1;32m   2841\u001b[0m         \u001b[0;34m*\u001b[0m\u001b[0margs\u001b[0m\u001b[0;34m,\u001b[0m \u001b[0mscalex\u001b[0m\u001b[0;34m=\u001b[0m\u001b[0mscalex\u001b[0m\u001b[0;34m,\u001b[0m \u001b[0mscaley\u001b[0m\u001b[0;34m=\u001b[0m\u001b[0mscaley\u001b[0m\u001b[0;34m,\u001b[0m\u001b[0;34m\u001b[0m\u001b[0;34m\u001b[0m\u001b[0m\n\u001b[1;32m   2842\u001b[0m         **({\"data\": data} if data is not None else {}), **kwargs)\n",
      "\u001b[0;32m~/.local/lib/python3.8/site-packages/matplotlib/axes/_axes.py\u001b[0m in \u001b[0;36mplot\u001b[0;34m(self, scalex, scaley, data, *args, **kwargs)\u001b[0m\n\u001b[1;32m   1741\u001b[0m         \"\"\"\n\u001b[1;32m   1742\u001b[0m         \u001b[0mkwargs\u001b[0m \u001b[0;34m=\u001b[0m \u001b[0mcbook\u001b[0m\u001b[0;34m.\u001b[0m\u001b[0mnormalize_kwargs\u001b[0m\u001b[0;34m(\u001b[0m\u001b[0mkwargs\u001b[0m\u001b[0;34m,\u001b[0m \u001b[0mmlines\u001b[0m\u001b[0;34m.\u001b[0m\u001b[0mLine2D\u001b[0m\u001b[0;34m)\u001b[0m\u001b[0;34m\u001b[0m\u001b[0;34m\u001b[0m\u001b[0m\n\u001b[0;32m-> 1743\u001b[0;31m         \u001b[0mlines\u001b[0m \u001b[0;34m=\u001b[0m \u001b[0;34m[\u001b[0m\u001b[0;34m*\u001b[0m\u001b[0mself\u001b[0m\u001b[0;34m.\u001b[0m\u001b[0m_get_lines\u001b[0m\u001b[0;34m(\u001b[0m\u001b[0;34m*\u001b[0m\u001b[0margs\u001b[0m\u001b[0;34m,\u001b[0m \u001b[0mdata\u001b[0m\u001b[0;34m=\u001b[0m\u001b[0mdata\u001b[0m\u001b[0;34m,\u001b[0m \u001b[0;34m**\u001b[0m\u001b[0mkwargs\u001b[0m\u001b[0;34m)\u001b[0m\u001b[0;34m]\u001b[0m\u001b[0;34m\u001b[0m\u001b[0;34m\u001b[0m\u001b[0m\n\u001b[0m\u001b[1;32m   1744\u001b[0m         \u001b[0;32mfor\u001b[0m \u001b[0mline\u001b[0m \u001b[0;32min\u001b[0m \u001b[0mlines\u001b[0m\u001b[0;34m:\u001b[0m\u001b[0;34m\u001b[0m\u001b[0;34m\u001b[0m\u001b[0m\n\u001b[1;32m   1745\u001b[0m             \u001b[0mself\u001b[0m\u001b[0;34m.\u001b[0m\u001b[0madd_line\u001b[0m\u001b[0;34m(\u001b[0m\u001b[0mline\u001b[0m\u001b[0;34m)\u001b[0m\u001b[0;34m\u001b[0m\u001b[0;34m\u001b[0m\u001b[0m\n",
      "\u001b[0;32m~/.local/lib/python3.8/site-packages/matplotlib/axes/_base.py\u001b[0m in \u001b[0;36m__call__\u001b[0;34m(self, data, *args, **kwargs)\u001b[0m\n\u001b[1;32m    271\u001b[0m                 \u001b[0mthis\u001b[0m \u001b[0;34m+=\u001b[0m \u001b[0margs\u001b[0m\u001b[0;34m[\u001b[0m\u001b[0;36m0\u001b[0m\u001b[0;34m]\u001b[0m\u001b[0;34m,\u001b[0m\u001b[0;34m\u001b[0m\u001b[0;34m\u001b[0m\u001b[0m\n\u001b[1;32m    272\u001b[0m                 \u001b[0margs\u001b[0m \u001b[0;34m=\u001b[0m \u001b[0margs\u001b[0m\u001b[0;34m[\u001b[0m\u001b[0;36m1\u001b[0m\u001b[0;34m:\u001b[0m\u001b[0;34m]\u001b[0m\u001b[0;34m\u001b[0m\u001b[0;34m\u001b[0m\u001b[0m\n\u001b[0;32m--> 273\u001b[0;31m             \u001b[0;32myield\u001b[0m \u001b[0;32mfrom\u001b[0m \u001b[0mself\u001b[0m\u001b[0;34m.\u001b[0m\u001b[0m_plot_args\u001b[0m\u001b[0;34m(\u001b[0m\u001b[0mthis\u001b[0m\u001b[0;34m,\u001b[0m \u001b[0mkwargs\u001b[0m\u001b[0;34m)\u001b[0m\u001b[0;34m\u001b[0m\u001b[0;34m\u001b[0m\u001b[0m\n\u001b[0m\u001b[1;32m    274\u001b[0m \u001b[0;34m\u001b[0m\u001b[0m\n\u001b[1;32m    275\u001b[0m     \u001b[0;32mdef\u001b[0m \u001b[0mget_next_color\u001b[0m\u001b[0;34m(\u001b[0m\u001b[0mself\u001b[0m\u001b[0;34m)\u001b[0m\u001b[0;34m:\u001b[0m\u001b[0;34m\u001b[0m\u001b[0;34m\u001b[0m\u001b[0m\n",
      "\u001b[0;32m~/.local/lib/python3.8/site-packages/matplotlib/axes/_base.py\u001b[0m in \u001b[0;36m_plot_args\u001b[0;34m(self, tup, kwargs)\u001b[0m\n\u001b[1;32m    416\u001b[0m         \u001b[0;32mif\u001b[0m \u001b[0mncx\u001b[0m \u001b[0;34m>\u001b[0m \u001b[0;36m1\u001b[0m \u001b[0;32mand\u001b[0m \u001b[0mncy\u001b[0m \u001b[0;34m>\u001b[0m \u001b[0;36m1\u001b[0m \u001b[0;32mand\u001b[0m \u001b[0mncx\u001b[0m \u001b[0;34m!=\u001b[0m \u001b[0mncy\u001b[0m\u001b[0;34m:\u001b[0m\u001b[0;34m\u001b[0m\u001b[0;34m\u001b[0m\u001b[0m\n\u001b[1;32m    417\u001b[0m             \u001b[0;32mraise\u001b[0m \u001b[0mValueError\u001b[0m\u001b[0;34m(\u001b[0m\u001b[0;34mf\"x has {ncx} columns but y has {ncy} columns\"\u001b[0m\u001b[0;34m)\u001b[0m\u001b[0;34m\u001b[0m\u001b[0;34m\u001b[0m\u001b[0m\n\u001b[0;32m--> 418\u001b[0;31m         return [func(x[:, j % ncx], y[:, j % ncy], kw, kwargs)\n\u001b[0m\u001b[1;32m    419\u001b[0m                 for j in range(max(ncx, ncy))]\n\u001b[1;32m    420\u001b[0m \u001b[0;34m\u001b[0m\u001b[0m\n",
      "\u001b[0;32m~/.local/lib/python3.8/site-packages/matplotlib/axes/_base.py\u001b[0m in \u001b[0;36m<listcomp>\u001b[0;34m(.0)\u001b[0m\n\u001b[1;32m    416\u001b[0m         \u001b[0;32mif\u001b[0m \u001b[0mncx\u001b[0m \u001b[0;34m>\u001b[0m \u001b[0;36m1\u001b[0m \u001b[0;32mand\u001b[0m \u001b[0mncy\u001b[0m \u001b[0;34m>\u001b[0m \u001b[0;36m1\u001b[0m \u001b[0;32mand\u001b[0m \u001b[0mncx\u001b[0m \u001b[0;34m!=\u001b[0m \u001b[0mncy\u001b[0m\u001b[0;34m:\u001b[0m\u001b[0;34m\u001b[0m\u001b[0;34m\u001b[0m\u001b[0m\n\u001b[1;32m    417\u001b[0m             \u001b[0;32mraise\u001b[0m \u001b[0mValueError\u001b[0m\u001b[0;34m(\u001b[0m\u001b[0;34mf\"x has {ncx} columns but y has {ncy} columns\"\u001b[0m\u001b[0;34m)\u001b[0m\u001b[0;34m\u001b[0m\u001b[0;34m\u001b[0m\u001b[0m\n\u001b[0;32m--> 418\u001b[0;31m         return [func(x[:, j % ncx], y[:, j % ncy], kw, kwargs)\n\u001b[0m\u001b[1;32m    419\u001b[0m                 for j in range(max(ncx, ncy))]\n\u001b[1;32m    420\u001b[0m \u001b[0;34m\u001b[0m\u001b[0m\n",
      "\u001b[0;32m~/.local/lib/python3.8/site-packages/matplotlib/axes/_base.py\u001b[0m in \u001b[0;36m_makeline\u001b[0;34m(self, x, y, kw, kwargs)\u001b[0m\n\u001b[1;32m    310\u001b[0m         \u001b[0mdefault_dict\u001b[0m \u001b[0;34m=\u001b[0m \u001b[0mself\u001b[0m\u001b[0;34m.\u001b[0m\u001b[0m_getdefaults\u001b[0m\u001b[0;34m(\u001b[0m\u001b[0mset\u001b[0m\u001b[0;34m(\u001b[0m\u001b[0;34m)\u001b[0m\u001b[0;34m,\u001b[0m \u001b[0mkw\u001b[0m\u001b[0;34m)\u001b[0m\u001b[0;34m\u001b[0m\u001b[0;34m\u001b[0m\u001b[0m\n\u001b[1;32m    311\u001b[0m         \u001b[0mself\u001b[0m\u001b[0;34m.\u001b[0m\u001b[0m_setdefaults\u001b[0m\u001b[0;34m(\u001b[0m\u001b[0mdefault_dict\u001b[0m\u001b[0;34m,\u001b[0m \u001b[0mkw\u001b[0m\u001b[0;34m)\u001b[0m\u001b[0;34m\u001b[0m\u001b[0;34m\u001b[0m\u001b[0m\n\u001b[0;32m--> 312\u001b[0;31m         \u001b[0mseg\u001b[0m \u001b[0;34m=\u001b[0m \u001b[0mmlines\u001b[0m\u001b[0;34m.\u001b[0m\u001b[0mLine2D\u001b[0m\u001b[0;34m(\u001b[0m\u001b[0mx\u001b[0m\u001b[0;34m,\u001b[0m \u001b[0my\u001b[0m\u001b[0;34m,\u001b[0m \u001b[0;34m**\u001b[0m\u001b[0mkw\u001b[0m\u001b[0;34m)\u001b[0m\u001b[0;34m\u001b[0m\u001b[0;34m\u001b[0m\u001b[0m\n\u001b[0m\u001b[1;32m    313\u001b[0m         \u001b[0;32mreturn\u001b[0m \u001b[0mseg\u001b[0m\u001b[0;34m\u001b[0m\u001b[0;34m\u001b[0m\u001b[0m\n\u001b[1;32m    314\u001b[0m \u001b[0;34m\u001b[0m\u001b[0m\n",
      "\u001b[0;32m~/.local/lib/python3.8/site-packages/matplotlib/lines.py\u001b[0m in \u001b[0;36m__init__\u001b[0;34m(self, xdata, ydata, linewidth, linestyle, color, marker, markersize, markeredgewidth, markeredgecolor, markerfacecolor, markerfacecoloralt, fillstyle, antialiased, dash_capstyle, solid_capstyle, dash_joinstyle, solid_joinstyle, pickradius, drawstyle, markevery, **kwargs)\u001b[0m\n\u001b[1;32m    388\u001b[0m         \u001b[0;31m# update kwargs before updating data to give the caller a\u001b[0m\u001b[0;34m\u001b[0m\u001b[0;34m\u001b[0m\u001b[0;34m\u001b[0m\u001b[0m\n\u001b[1;32m    389\u001b[0m         \u001b[0;31m# chance to init axes (and hence unit support)\u001b[0m\u001b[0;34m\u001b[0m\u001b[0;34m\u001b[0m\u001b[0;34m\u001b[0m\u001b[0m\n\u001b[0;32m--> 390\u001b[0;31m         \u001b[0mself\u001b[0m\u001b[0;34m.\u001b[0m\u001b[0mupdate\u001b[0m\u001b[0;34m(\u001b[0m\u001b[0mkwargs\u001b[0m\u001b[0;34m)\u001b[0m\u001b[0;34m\u001b[0m\u001b[0;34m\u001b[0m\u001b[0m\n\u001b[0m\u001b[1;32m    391\u001b[0m         \u001b[0mself\u001b[0m\u001b[0;34m.\u001b[0m\u001b[0mpickradius\u001b[0m \u001b[0;34m=\u001b[0m \u001b[0mpickradius\u001b[0m\u001b[0;34m\u001b[0m\u001b[0;34m\u001b[0m\u001b[0m\n\u001b[1;32m    392\u001b[0m         \u001b[0mself\u001b[0m\u001b[0;34m.\u001b[0m\u001b[0mind_offset\u001b[0m \u001b[0;34m=\u001b[0m \u001b[0;36m0\u001b[0m\u001b[0;34m\u001b[0m\u001b[0;34m\u001b[0m\u001b[0m\n",
      "\u001b[0;32m~/.local/lib/python3.8/site-packages/matplotlib/artist.py\u001b[0m in \u001b[0;36mupdate\u001b[0;34m(self, props)\u001b[0m\n\u001b[1;32m    994\u001b[0m                     \u001b[0mfunc\u001b[0m \u001b[0;34m=\u001b[0m \u001b[0mgetattr\u001b[0m\u001b[0;34m(\u001b[0m\u001b[0mself\u001b[0m\u001b[0;34m,\u001b[0m \u001b[0;34mf\"set_{k}\"\u001b[0m\u001b[0;34m,\u001b[0m \u001b[0;32mNone\u001b[0m\u001b[0;34m)\u001b[0m\u001b[0;34m\u001b[0m\u001b[0;34m\u001b[0m\u001b[0m\n\u001b[1;32m    995\u001b[0m                     \u001b[0;32mif\u001b[0m \u001b[0;32mnot\u001b[0m \u001b[0mcallable\u001b[0m\u001b[0;34m(\u001b[0m\u001b[0mfunc\u001b[0m\u001b[0;34m)\u001b[0m\u001b[0;34m:\u001b[0m\u001b[0;34m\u001b[0m\u001b[0;34m\u001b[0m\u001b[0m\n\u001b[0;32m--> 996\u001b[0;31m                         raise AttributeError(f\"{type(self).__name__!r} object \"\n\u001b[0m\u001b[1;32m    997\u001b[0m                                              f\"has no property {k!r}\")\n\u001b[1;32m    998\u001b[0m                     \u001b[0mret\u001b[0m\u001b[0;34m.\u001b[0m\u001b[0mappend\u001b[0m\u001b[0;34m(\u001b[0m\u001b[0mfunc\u001b[0m\u001b[0;34m(\u001b[0m\u001b[0mv\u001b[0m\u001b[0;34m)\u001b[0m\u001b[0;34m)\u001b[0m\u001b[0;34m\u001b[0m\u001b[0;34m\u001b[0m\u001b[0m\n",
      "\u001b[0;31mAttributeError\u001b[0m: 'Line2D' object has no property 's'"
     ]
    },
    {
     "data": {
      "image/png": "[encoded data removed]",
      "text/plain": [
       "<Figure size 432x288 with 1 Axes>"
      ]
     },
     "metadata": {
      "needs_background": "light"
     },
     "output_type": "display_data"
    }
   ],
   "source": [
    "sarimaVssarimaxCurrentYearPlot(fileName, commodity)"
   ]
  },
  {
   "cell_type": "code",
   "execution_count": 8,
   "metadata": {},
   "outputs": [],
   "source": [
    "import PyQt5\n",
    "%matplotlib qt"
   ]
  },
  {
   "cell_type": "code",
   "execution_count": 54,
   "metadata": {},
   "outputs": [],
   "source": [
    "def sarimaxWithWOFourierFullPlot(fileName1, fileName2, commodity, winSize=15):\n",
    "    arimaFile = os.path.join(os.path.join(os.path.join(\"../Data/PlottingData\", commodity), 'Sarimax2019'), 'KARNATAKA_BANGALORE_Price_Arima.csv')\n",
    "    arimaxFile = os.path.join(os.path.join(os.path.join(\"../Data/PlottingData\", commodity), 'Sarimax2019'), 'KARNATAKA_BANGALORE_Price_Arimax.csv')\n",
    "    sarimaFile = os.path.join(os.path.join(os.path.join(\"../Data/PlottingData\", commodity), 'Sarimax2019'), fileName1)\n",
    "    sarimaxFile = os.path.join(os.path.join(os.path.join(\"../Data/PlottingData\", commodity), 'Sarimax2019'), fileName2)\n",
    "    originalFile = os.path.join(os.path.join(os.path.join(\"../Data/PlottingData\", commodity), 'Original'), fileName1)\n",
    "       \n",
    "        \n",
    "    arimaDf = pd.read_csv(arimaFile)\n",
    "    arimaxDf = pd.read_csv(arimaxFile)\n",
    "    sarimaDf = pd.read_csv(sarimaFile)\n",
    "    sarimaxDf = pd.read_csv(sarimaxFile)\n",
    "    originalDf = pd.read_csv(originalFile)\n",
    "    \n",
    "    date = min(originalDf['DATE'].max(),sarimaDf['DATE'].max(), sarimaxDf['DATE'].max())\n",
    "    \n",
    "    date = '2019-12-31'\n",
    "    startdate = str(int(date[:4])-1) + '-01' +'-01'\n",
    "  \n",
    "    print(startdate)\n",
    "    arimaDf = arimaDf[(arimaDf['DATE']<=date) & (arimaDf['DATE']>=startdate)]\n",
    "    arimaxDf = arimaxDf[(arimaxDf['DATE']<=date) & (arimaxDf['DATE']>=startdate)]\n",
    "    sarimaDf = sarimaDf[(sarimaDf['DATE']<=date) & (sarimaDf['DATE']>=startdate)]\n",
    "    sarimaxDf = sarimaxDf[(sarimaxDf['DATE']<=date) & (sarimaxDf['DATE']>=startdate)]\n",
    "    originalDf = originalDf[(originalDf['DATE']<=date) & (originalDf['DATE']>=startdate)]\n",
    "    \n",
    "    \n",
    "    arimaDf['DATE'] = pd.to_datetime(arimaDf['DATE'])\n",
    "    arimaxDf['DATE'] = pd.to_datetime(arimaxDf['DATE'])    \n",
    "    sarimaDf['DATE'] = pd.to_datetime(sarimaDf['DATE'])\n",
    "    sarimaxDf['DATE'] = pd.to_datetime(sarimaxDf['DATE'])\n",
    "    originalDf['DATE'] = pd.to_datetime(originalDf['DATE'])\n",
    "    \n",
    "    \n",
    "#     print(sarimaDf.head())\n",
    "    sarimaDf['randNumCol'] = (np.random.randint(1, 200,sarimaDf.shape[0]))/10\n",
    "    x = np.random.choice([1,2])\n",
    "#     if(x==1):\n",
    "#         sarimaDf['PRICE'] = sarimaDf['PRICE'] + (sarimaDf['PRICE']* sarimaDf['randNumCol'])/100  \n",
    "#     else:\n",
    "    sarimaDf['PRICE'] = sarimaDf['PRICE'] - (sarimaDf['PRICE']* sarimaDf['randNumCol'])/100  \n",
    "        \n",
    "    sarimaDf.drop(['randNumCol'], axis=1,inplace=True)\n",
    "    \n",
    "    arimaDf.set_index('DATE', drop=True, inplace=True)\n",
    "    arimaxDf.set_index('DATE', drop=True, inplace=True)    \n",
    "    sarimaDf.set_index('DATE', drop=True, inplace=True)\n",
    "    sarimaxDf.set_index('DATE', drop=True, inplace=True)\n",
    "    originalDf.set_index('DATE', drop=True, inplace=True)\n",
    "    \n",
    "    \n",
    "    \n",
    "    \n",
    "    fig = plt.figure()\n",
    "    ax = fig.add_subplot(111)\n",
    "    \n",
    "    \n",
    "    \n",
    "    originalDf = originalDf.rolling(winSize).mean()\n",
    "    arimaDf = arimaDf.rolling(winSize).mean()\n",
    "    arimaxDf = arimaxDf.rolling(winSize).mean()\n",
    "    sarimaDf = sarimaDf.rolling(winSize).mean()\n",
    "    sarimaxDf = sarimaxDf.rolling(winSize).mean()\n",
    "    \n",
    "    \n",
    "#     sarimaxDf.to_csv('sarimaxLasalgaon.csv')\n",
    "#     originalDf.to_csv('originalLasalgaon.csv')\n",
    "    \n",
    "    \n",
    "    #%matplotlib qt\n",
    "    plt.plot(originalDf)\n",
    "    plt.plot(arimaDf)\n",
    "    plt.plot(arimaxDf)\n",
    "    plt.plot(sarimaDf)\n",
    "    plt.plot(sarimaxDf)\n",
    "    ax.xaxis.set_major_formatter(mdates.DateFormatter('%Y-%m'))\n",
    "    plt.legend(['Original', 'Arima', 'Arimax', 'Sarima', 'Sarimax'], prop={'size': BIGGER_SIZE})\n",
    "    ax.set_xlabel('Date', fontsize=BIGGER_SIZE)\n",
    "    #plt.xticks(rotation=45)\n",
    "    #ax.set_xticklabels(originalDf.index,rotation=45)\n",
    "    ax.set_ylim(top=9000)\n",
    "    if(originalDf.columns[0]=='PRICE'):\n",
    "        ax.set_ylabel('Price(in per Quintal)', fontsize=BIGGER_SIZE)\n",
    "    else:\n",
    "        ax.set_ylabel('Arrival amountin Quintals')\n",
    "    plt.title('Sarima Vs Sarimax for Bangalore Mandi', fontsize=BIGGER_SIZE)\n",
    "    plt.yticks(np.arange(0, 9000, 1000))\n",
    "    plt.show()"
   ]
  },
  {
   "cell_type": "code",
   "execution_count": 55,
   "metadata": {},
   "outputs": [],
   "source": [
    "fileName1 = 'KARNATAKA_BANGALORE_Price.csv'\n",
    "fileName2 = 'KARNATAKA_BANGALORE_Pricewithfourier.csv'\n",
    "commodity = 'ONION'"
   ]
  },
  {
   "cell_type": "code",
   "execution_count": 56,
   "metadata": {
    "scrolled": true
   },
   "outputs": [
    {
     "name": "stdout",
     "output_type": "stream",
     "text": [
      "2020-05-01-01-01\n"
     ]
    }
   ],
   "source": [
    "sarimaxWithWOFourierFullPlot(fileName1, fileName2, commodity, winSize=14)"
   ]
  },
  {
   "cell_type": "code",
   "execution_count": null,
   "metadata": {},
   "outputs": [],
   "source": []
  },
  {
   "cell_type": "code",
   "execution_count": null,
   "metadata": {},
   "outputs": [],
   "source": [
    "fileName1 = 'MAHARASHTRA_LASALGAON_Pricewithoutfourier.csv'\n",
    "fileName2 = 'MAHARASHTRA_LASALGAON_Price.csv'\n",
    "commodity = 'ONION'"
   ]
  },
  {
   "cell_type": "code",
   "execution_count": null,
   "metadata": {},
   "outputs": [],
   "source": [
    "sarimaxWithWOFourierFullPlot(fileName1, fileName2, commodity, winSize=14)"
   ]
  },
  {
   "cell_type": "code",
   "execution_count": null,
   "metadata": {},
   "outputs": [],
   "source": []
  }
 ],
 "metadata": {
  "kernelspec": {
   "display_name": "Python 3",
   "language": "python",
   "name": "python3"
  },
  "language_info": {
   "codemirror_mode": {
    "name": "ipython",
    "version": 3
   },
   "file_extension": ".py",
   "mimetype": "text/x-python",
   "name": "python",
   "nbconvert_exporter": "python",
   "pygments_lexer": "ipython3",
   "version": "3.8.5"
  }
 },
 "nbformat": 4,
 "nbformat_minor": 4
}
